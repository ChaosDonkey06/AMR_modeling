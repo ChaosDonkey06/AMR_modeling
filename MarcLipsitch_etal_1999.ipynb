{
 "cells": [
  {
   "cell_type": "markdown",
   "metadata": {},
   "source": [
    "# The epidemiology of antibiotic resistance in hospitals: Paradoxes and prescriptions\n",
    "Marc Lipsitch, Carl Bergstrom and Bruce Levin"
   ]
  },
  {
   "cell_type": "code",
   "execution_count": 2,
   "metadata": {},
   "outputs": [],
   "source": [
    "import pandas as pd\n",
    "import numpy as np\n",
    "import os\n",
    "\n",
    "from scipy.interpolate import UnivariateSpline\n"
   ]
  },
  {
   "cell_type": "code",
   "execution_count": 5,
   "metadata": {},
   "outputs": [],
   "source": [
    "\n",
    "def binomial_transition(var, rate, dt=1):\n",
    "    kb = np.maximum(1.0 - np.exp(-rate * dt), 0)\n",
    "    num_ind   = np.random.binomial(list(var), kb )\n",
    "\n",
    "    return num_ind\n",
    "\n",
    "def deterministic_transition(var, rate, dt=1):\n",
    "\n",
    "    return var * rate * dt\n",
    "\n",
    "def model(x,  beta, tau1, tau2, c, num_ensembles=300, dt=1, transition=binomial_transition):\n",
    "    \"\"\"[summary]\n",
    "\n",
    "    Args:\n",
    "        x ([type]):     State variables                            | Dim: [num_variables, num_age_groups, num_ensembles]\n",
    "        beta ([type]):  Population level contact rate              | Dim: [num_ensembles]\n",
    "        ifr ([type]):   Age group dependent infect fatality rates. | Dim: [num_age_groups, num_ensembles]\n",
    "        alpha ([type]): Age group dependent ascertainment rates.   | Dim: [num_age_groups, num_ensembles]\n",
    "        N ([type]):     Population in each age group.              | Dim: [num_age_groups]\n",
    "\n",
    "    Returns:\n",
    "        [type]: [description]\n",
    "    \"\"\"\n",
    "\n",
    "    m       = 30/100  # Proportion of admitted already colonized individuals with the sensitive strain [adim]\n",
    "    mu      = 1/15    # Average duration of hospital stay [days]\n",
    "    gamma   = 1/45    # Average time from admission or colonization until spontaneous clearance of bacteria carriage [days]\n",
    "    c       = c       # Fitness cost of resistance to drug 1\n",
    "    tau1    = tau1    # Rate of treatment with drug 1\n",
    "    tau2    = tau2    # Rate of treatment with drug 2\n",
    "\n",
    "    X       = x[0, :] # Non colonized individuals\n",
    "    S       = x[1, :] # Colonized individuals with the sensitive strain\n",
    "    R       = x[2, :] # Colonized individuals with the resistant strain\n",
    "\n",
    "    # force of infection of sensitive strain\n",
    "    foi_s = beta * S\n",
    "\n",
    "    # force of infection of resistant strain\n",
    "    foi_r = beta * (1-c) * R\n",
    "\n",
    "\n",
    "    # Transitions\n",
    "    adm_s         = transition(m, mu, dt)\n",
    "    adm_x         = transition((1-m), mu, dt)\n",
    "\n",
    "    x2s           =  transition(X, foi_s, dt) # non-colonized to colonized with sensitive strain\n",
    "    x2r           =  transition(X, foi_r, dt) # non-colonized to colonized with resistant strain\n",
    "    s2x_tau1      =  transition(S, tau1, dt)\n",
    "    s2x_tau2      =  transition(S, tau2, dt)\n",
    "    r2x_tau1      =  transition(R, tau2, dt)\n",
    "\n",
    "    s2x_clearance =  transition(S, gamma, dt)\n",
    "    r2x_clearance =  transition(R, gamma, dt)\n",
    "    s2exit        =  transition(S, mu, dt)\n",
    "    r2exit        =  transition(R, mu, dt)\n",
    "    x2exit        =  transition(X, mu, dt)\n",
    "\n",
    "    # Updates\n",
    "    X  = X + adm_x - x2s - x2r + s2x_tau1 + s2x_tau2 + r2x_tau1 + s2x_clearance + r2x_clearance - x2exit\n",
    "    S  = S + adm_s + x2s - s2exit - s2x_tau1 + s2x_tau2 - s2x_clearance\n",
    "    R  = R + x2r   - r2exit - r2x_tau1 - r2x_clearance\n",
    "\n",
    "    return np.maximum(np.array([X, S, R]), 0)"
   ]
  },
  {
   "cell_type": "code",
   "execution_count": 15,
   "metadata": {},
   "outputs": [
    {
     "data": {
      "text/plain": [
       "(3, 61, 1)"
      ]
     },
     "execution_count": 15,
     "metadata": {},
     "output_type": "execute_result"
    }
   ],
   "source": [
    "x0 =[ [0.9, 0.05, 0.05]]\n",
    "\n",
    "num_ensembles = 1\n",
    "num_days      = 60\n",
    "num_vars      = 3\n",
    "\n",
    "x_all = np.full((num_vars, num_days+1, num_ensembles), np.nan)\n",
    "x_all[:,0,:] = np.expand_dims(x0, -1)\n",
    "\n",
    "beta = 1\n",
    "tau1 = 1/5\n",
    "tau2 = 0\n",
    "c    = 0\n",
    "\n",
    "for t_idx in range(num_days):\n",
    "\n",
    "    x_all[:,t_idx+1,:] = model(x_all[:,t_idx,:],  beta, tau1, tau2, c, num_ensembles=300, dt=1, transition=deterministic_transition)\n",
    "\n",
    "x_all.shape"
   ]
  },
  {
   "cell_type": "code",
   "execution_count": 22,
   "metadata": {},
   "outputs": [
    {
     "data": {
      "text/plain": [
       "[<matplotlib.lines.Line2D at 0x7ff3c9e97280>]"
      ]
     },
     "execution_count": 22,
     "metadata": {},
     "output_type": "execute_result"
    },
    {
     "data": {
      "image/png": "[encoded data removed]",
      "text/plain": [
       "<Figure size 1116x518.4 with 1 Axes>"
      ]
     },
     "metadata": {
      "needs_background": "light"
     },
     "output_type": "display_data"
    }
   ],
   "source": [
    "import matplotlib.pyplot as plt\n",
    "#\n",
    "fig, ax = plt.subplots(1, 1, figsize=(15.5, 7.2))\n",
    "\n",
    "ax.plot(range(num_days+1), x_all[0, : ], color=\"r\", lw=2)\n",
    "ax.plot(range(num_days+1), x_all[1, : ], color=\"g\", lw=2)\n",
    "ax.plot(range(num_days+1), x_all[2, : ], color=\"b\", lw=2)"
   ]
  },
  {
   "cell_type": "code",
   "execution_count": null,
   "metadata": {},
   "outputs": [],
   "source": []
  },
  {
   "cell_type": "code",
   "execution_count": null,
   "metadata": {},
   "outputs": [],
   "source": [
    "np.nan"
   ]
  },
  {
   "cell_type": "code",
   "execution_count": null,
   "metadata": {},
   "outputs": [],
   "source": []
  }
 ],
 "metadata": {
  "interpreter": {
   "hash": "574dadffd7a64c0fd8dffb1c55414219139ca02322c8f7cd93c896672936a7f7"
  },
  "kernelspec": {
   "display_name": "Python 3.8.2 ('base')",
   "language": "python",
   "name": "python3"
  },
  "language_info": {
   "codemirror_mode": {
    "name": "ipython",
    "version": 3
   },
   "file_extension": ".py",
   "mimetype": "text/x-python",
   "name": "python",
   "nbconvert_exporter": "python",
   "pygments_lexer": "ipython3",
   "version": "3.8.2"
  },
  "orig_nbformat": 4
 },
 "nbformat": 4,
 "nbformat_minor": 2
}
