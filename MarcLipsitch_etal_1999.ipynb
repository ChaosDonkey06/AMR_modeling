{
 "cells": [
  {
   "cell_type": "markdown",
   "metadata": {},
   "source": [
    "# The epidemiology of antibiotic resistance in hospitals: Paradoxes and prescriptions\n",
    "Marc Lipsitch, Carl Bergstrom and Bruce Levin"
   ]
  },
  {
   "cell_type": "code",
   "execution_count": 2,
   "metadata": {},
   "outputs": [],
   "source": [
    "import pandas as pd\n",
    "import numpy as np\n",
    "import os\n",
    "\n",
    "from scipy.interpolate import UnivariateSpline\n"
   ]
  },
  {
   "cell_type": "code",
   "execution_count": null,
   "metadata": {},
   "outputs": [],
   "source": [
    "\n",
    "def binomial_transition(var, rate, dt=1):\n",
    "    kb = np.maximum(1.0 - np.exp(-rate * dt), 0)\n",
    "    num_ind   = np.random.binomial(list(var), kb )\n",
    "\n",
    "    return num_ind\n",
    "\n",
    "def deterministic_transition(var, rate, dt=1):\n",
    "\n",
    "    return var * rate * dt\n",
    "\n",
    "def model(x,  beta, num_ensembles=300, dt=1, transition=binomial_transition):\n",
    "    \"\"\"[summary]\n",
    "\n",
    "    Args:\n",
    "        x ([type]):     State variables                            | Dim: [num_variables, num_age_groups, num_ensembles]\n",
    "        beta ([type]):  Population level contact rate              | Dim: [num_ensembles]\n",
    "        ifr ([type]):   Age group dependent infect fatality rates. | Dim: [num_age_groups, num_ensembles]\n",
    "        alpha ([type]): Age group dependent ascertainment rates.   | Dim: [num_age_groups, num_ensembles]\n",
    "        N ([type]):     Population in each age group.              | Dim: [num_age_groups]\n",
    "\n",
    "    Returns:\n",
    "        [type]: [description]\n",
    "    \"\"\"\n",
    "\n",
    "    m       = 30/100  # Proportion of admitted already colonized individuals with the sensitive strain [adim]\n",
    "    mu      = 1/15    # Average duration of hospital stay [days]\n",
    "    gamma   = 1/45    # Average time from admission or colonization until spontaneous clearance of bacteria carriage [days]\n",
    "    tau     = 1/14    # Average time from admission to colonization\n",
    "\n",
    "    X       = x[0, :] # Non colonized individuals\n",
    "    S       = x[1, :] # Colonized individuals with the sensitive strain\n",
    "    R       = x[2, :] # Colonized individuals with the resistant strain\n",
    "\n",
    "    # force of infection of sensitive strain\n",
    "    foi_s = beta * S\n",
    "\n",
    "    # force of infection of resistant strain\n",
    "    foi_r = beta * R\n",
    "\n",
    "\n",
    "    # Transitions\n",
    "    x2s      =  transition(X, foi_s, dt) # non-colonized to colonized with sensitive strain\n",
    "    x2r      =  transition(X, foi_r, dt) # non-colonized to colonized with resistant strain\n",
    "\n",
    "    # Updates\n",
    "    X  = X - x2s - x2r\n",
    "    S  = S + x2s\n",
    "    R  = R + x2r\n",
    "\n",
    "    return np.maximum(np.array([X, S, R]), 0)"
   ]
  }
 ],
 "metadata": {
  "interpreter": {
   "hash": "574dadffd7a64c0fd8dffb1c55414219139ca02322c8f7cd93c896672936a7f7"
  },
  "kernelspec": {
   "display_name": "Python 3.8.2 ('base')",
   "language": "python",
   "name": "python3"
  },
  "language_info": {
   "codemirror_mode": {
    "name": "ipython",
    "version": 3
   },
   "file_extension": ".py",
   "mimetype": "text/x-python",
   "name": "python",
   "nbconvert_exporter": "python",
   "pygments_lexer": "ipython3",
   "version": "3.8.2"
  },
  "orig_nbformat": 4
 },
 "nbformat": 4,
 "nbformat_minor": 2
}
